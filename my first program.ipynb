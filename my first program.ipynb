{
 "cells": [
  {
   "cell_type": "code",
   "execution_count": null,
   "id": "7c7f47ad",
   "metadata": {},
   "outputs": [],
   "source": [
    "print(\"hello world!\")"
   ]
  },
  {
   "cell_type": "code",
   "execution_count": null,
   "id": "2715ce2f",
   "metadata": {},
   "outputs": [],
   "source": []
  },
  {
   "cell_type": "markdown",
   "id": "78394c18",
   "metadata": {},
   "source": [
    "my first program "
   ]
  },
  {
   "cell_type": "code",
   "execution_count": 2,
   "id": "70434594",
   "metadata": {},
   "outputs": [
    {
     "name": "stdout",
     "output_type": "stream",
     "text": [
      "ibrar awan\n",
      "student id 00-48\n"
     ]
    }
   ],
   "source": [
    "print(\"ibrar awan\")\n",
    "print(\"student id 00-48\")"
   ]
  },
  {
   "cell_type": "code",
   "execution_count": 3,
   "id": "4cdd9729",
   "metadata": {},
   "outputs": [
    {
     "name": "stdout",
     "output_type": "stream",
     "text": [
      "i am ibrar and my student id is 00-48\n"
     ]
    }
   ],
   "source": [
    "print(\"i am ibrar and my student id is 00-48\")"
   ]
  }
 ],
 "metadata": {
  "kernelspec": {
   "display_name": "Python 3",
   "language": "python",
   "name": "python3"
  },
  "language_info": {
   "codemirror_mode": {
    "name": "ipython",
    "version": 3
   },
   "file_extension": ".py",
   "mimetype": "text/x-python",
   "name": "python",
   "nbconvert_exporter": "python",
   "pygments_lexer": "ipython3",
   "version": "3.12.9"
  }
 },
 "nbformat": 4,
 "nbformat_minor": 5
}
